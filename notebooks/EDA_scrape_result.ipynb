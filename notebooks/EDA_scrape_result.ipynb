{
 "cells": [
  {
   "cell_type": "code",
   "execution_count": 1,
   "id": "fd6bdbe4",
   "metadata": {},
   "outputs": [],
   "source": [
    "# Import necessary libraries\n",
    "import os\n",
    "import numpy as np\n",
    "import pandas as pd\n",
    "import seaborn as sns\n",
    "import matplotlib.pyplot as plt"
   ]
  },
  {
   "cell_type": "code",
   "execution_count": null,
   "id": "125c29cb",
   "metadata": {},
   "outputs": [],
   "source": [
    "# Load the dataset\n",
    "products_list = pd.read_csv('../data/products_list.csv')\n",
    "products_details = pd.read_csv('../data/products_detail.csv')\n",
    "reviews = pd.read_csv('../data/reviews.csv')"
   ]
  },
  {
   "cell_type": "markdown",
   "id": "97bfc22d",
   "metadata": {},
   "source": [
    "## Products List"
   ]
  },
  {
   "cell_type": "code",
   "execution_count": 24,
   "id": "b04df04f",
   "metadata": {},
   "outputs": [
    {
     "data": {
      "text/html": [
       "<div>\n",
       "<style scoped>\n",
       "    .dataframe tbody tr th:only-of-type {\n",
       "        vertical-align: middle;\n",
       "    }\n",
       "\n",
       "    .dataframe tbody tr th {\n",
       "        vertical-align: top;\n",
       "    }\n",
       "\n",
       "    .dataframe thead th {\n",
       "        text-align: right;\n",
       "    }\n",
       "</style>\n",
       "<table border=\"1\" class=\"dataframe\">\n",
       "  <thead>\n",
       "    <tr style=\"text-align: right;\">\n",
       "      <th></th>\n",
       "      <th>name</th>\n",
       "      <th>brand</th>\n",
       "      <th>image</th>\n",
       "      <th>url</th>\n",
       "      <th>rating</th>\n",
       "      <th>total_reviews</th>\n",
       "      <th>category</th>\n",
       "    </tr>\n",
       "  </thead>\n",
       "  <tbody>\n",
       "    <tr>\n",
       "      <th>0</th>\n",
       "      <td>Gokujyun Ultimate Moisturizing Lotion</td>\n",
       "      <td>Hada Labo</td>\n",
       "      <td>https://image.femaledaily.com/dyn/210/images/p...</td>\n",
       "      <td>https://reviews.femaledaily.com/products/clean...</td>\n",
       "      <td>4.4</td>\n",
       "      <td>5928</td>\n",
       "      <td>Cleanser / Toner</td>\n",
       "    </tr>\n",
       "    <tr>\n",
       "      <th>1</th>\n",
       "      <td>AHA BHA PHA 30 Days Miracle Toner</td>\n",
       "      <td>Some by Mi</td>\n",
       "      <td>https://image.femaledaily.com/dyn/210/images/p...</td>\n",
       "      <td>https://reviews.femaledaily.com/products/clean...</td>\n",
       "      <td>3.6</td>\n",
       "      <td>5139</td>\n",
       "      <td>Cleanser / Toner</td>\n",
       "    </tr>\n",
       "    <tr>\n",
       "      <th>2</th>\n",
       "      <td>Air Mawar</td>\n",
       "      <td>Viva Cosmetics</td>\n",
       "      <td>https://image.femaledaily.com/dyn/210/images/p...</td>\n",
       "      <td>https://reviews.femaledaily.com/products/clean...</td>\n",
       "      <td>4.1</td>\n",
       "      <td>5116</td>\n",
       "      <td>Cleanser / Toner</td>\n",
       "    </tr>\n",
       "    <tr>\n",
       "      <th>3</th>\n",
       "      <td>AHA/BHA Clarifying Treatment Toner</td>\n",
       "      <td>Cosrx</td>\n",
       "      <td>https://image.femaledaily.com/dyn/210/images/p...</td>\n",
       "      <td>https://reviews.femaledaily.com/products/clean...</td>\n",
       "      <td>4.0</td>\n",
       "      <td>4503</td>\n",
       "      <td>Cleanser / Toner</td>\n",
       "    </tr>\n",
       "    <tr>\n",
       "      <th>4</th>\n",
       "      <td>Miraculous Refining Toner</td>\n",
       "      <td>AVOSKIN</td>\n",
       "      <td>https://image.femaledaily.com/dyn/210/images/p...</td>\n",
       "      <td>https://reviews.femaledaily.com/products/clean...</td>\n",
       "      <td>4.5</td>\n",
       "      <td>4298</td>\n",
       "      <td>Cleanser / Toner</td>\n",
       "    </tr>\n",
       "  </tbody>\n",
       "</table>\n",
       "</div>"
      ],
      "text/plain": [
       "                                    name           brand  \\\n",
       "0  Gokujyun Ultimate Moisturizing Lotion       Hada Labo   \n",
       "1      AHA BHA PHA 30 Days Miracle Toner      Some by Mi   \n",
       "2                              Air Mawar  Viva Cosmetics   \n",
       "3     AHA/BHA Clarifying Treatment Toner           Cosrx   \n",
       "4              Miraculous Refining Toner         AVOSKIN   \n",
       "\n",
       "                                               image  \\\n",
       "0  https://image.femaledaily.com/dyn/210/images/p...   \n",
       "1  https://image.femaledaily.com/dyn/210/images/p...   \n",
       "2  https://image.femaledaily.com/dyn/210/images/p...   \n",
       "3  https://image.femaledaily.com/dyn/210/images/p...   \n",
       "4  https://image.femaledaily.com/dyn/210/images/p...   \n",
       "\n",
       "                                                 url  rating  total_reviews  \\\n",
       "0  https://reviews.femaledaily.com/products/clean...     4.4           5928   \n",
       "1  https://reviews.femaledaily.com/products/clean...     3.6           5139   \n",
       "2  https://reviews.femaledaily.com/products/clean...     4.1           5116   \n",
       "3  https://reviews.femaledaily.com/products/clean...     4.0           4503   \n",
       "4  https://reviews.femaledaily.com/products/clean...     4.5           4298   \n",
       "\n",
       "           category  \n",
       "0  Cleanser / Toner  \n",
       "1  Cleanser / Toner  \n",
       "2  Cleanser / Toner  \n",
       "3  Cleanser / Toner  \n",
       "4  Cleanser / Toner  "
      ]
     },
     "execution_count": 24,
     "metadata": {},
     "output_type": "execute_result"
    }
   ],
   "source": [
    "# Dataset products_list\n",
    "products_list.head(5)"
   ]
  },
  {
   "cell_type": "code",
   "execution_count": 25,
   "id": "a2c9e9b7",
   "metadata": {},
   "outputs": [
    {
     "name": "stdout",
     "output_type": "stream",
     "text": [
      "<class 'pandas.core.frame.DataFrame'>\n",
      "RangeIndex: 1000 entries, 0 to 999\n",
      "Data columns (total 7 columns):\n",
      " #   Column         Non-Null Count  Dtype  \n",
      "---  ------         --------------  -----  \n",
      " 0   name           1000 non-null   object \n",
      " 1   brand          1000 non-null   object \n",
      " 2   image          1000 non-null   object \n",
      " 3   url            1000 non-null   object \n",
      " 4   rating         1000 non-null   float64\n",
      " 5   total_reviews  1000 non-null   int64  \n",
      " 6   category       1000 non-null   object \n",
      "dtypes: float64(1), int64(1), object(5)\n",
      "memory usage: 54.8+ KB\n"
     ]
    }
   ],
   "source": [
    "# Cek info\n",
    "products_list.info()"
   ]
  },
  {
   "cell_type": "code",
   "execution_count": 26,
   "id": "d7137e79",
   "metadata": {},
   "outputs": [
    {
     "data": {
      "text/plain": [
       "(1000, 7)"
      ]
     },
     "execution_count": 26,
     "metadata": {},
     "output_type": "execute_result"
    }
   ],
   "source": [
    "# Cek jumlah data\n",
    "products_list.shape"
   ]
  },
  {
   "cell_type": "code",
   "execution_count": 27,
   "id": "4d723ec8",
   "metadata": {},
   "outputs": [
    {
     "data": {
      "text/plain": [
       "name             0\n",
       "brand            0\n",
       "image            0\n",
       "url              0\n",
       "rating           0\n",
       "total_reviews    0\n",
       "category         0\n",
       "dtype: int64"
      ]
     },
     "execution_count": 27,
     "metadata": {},
     "output_type": "execute_result"
    }
   ],
   "source": [
    "# Cek missing values\n",
    "products_list.isnull().sum()"
   ]
  },
  {
   "cell_type": "code",
   "execution_count": 28,
   "id": "20ecda33",
   "metadata": {},
   "outputs": [
    {
     "data": {
      "text/plain": [
       "0"
      ]
     },
     "execution_count": 28,
     "metadata": {},
     "output_type": "execute_result"
    }
   ],
   "source": [
    "# Cek data duplikat\n",
    "products_list.duplicated().sum()"
   ]
  },
  {
   "cell_type": "code",
   "execution_count": 15,
   "id": "1cd4cf46",
   "metadata": {},
   "outputs": [
    {
     "data": {
      "text/html": [
       "<div>\n",
       "<style scoped>\n",
       "    .dataframe tbody tr th:only-of-type {\n",
       "        vertical-align: middle;\n",
       "    }\n",
       "\n",
       "    .dataframe tbody tr th {\n",
       "        vertical-align: top;\n",
       "    }\n",
       "\n",
       "    .dataframe thead th {\n",
       "        text-align: right;\n",
       "    }\n",
       "</style>\n",
       "<table border=\"1\" class=\"dataframe\">\n",
       "  <thead>\n",
       "    <tr style=\"text-align: right;\">\n",
       "      <th></th>\n",
       "      <th>name</th>\n",
       "      <th>brand</th>\n",
       "      <th>image</th>\n",
       "      <th>url</th>\n",
       "      <th>rating</th>\n",
       "      <th>total_reviews</th>\n",
       "      <th>category</th>\n",
       "    </tr>\n",
       "  </thead>\n",
       "  <tbody>\n",
       "    <tr>\n",
       "      <th>20</th>\n",
       "      <td>Gokujyun Ultimate Moisturizing Lotion</td>\n",
       "      <td>Hada Labo</td>\n",
       "      <td>https://reviews.femaledaily.com/service_review...</td>\n",
       "      <td>https://reviews.femaledaily.com/products/clean...</td>\n",
       "      <td>4.4</td>\n",
       "      <td>5928</td>\n",
       "      <td>Cleanser / Toner</td>\n",
       "    </tr>\n",
       "    <tr>\n",
       "      <th>21</th>\n",
       "      <td>AHA BHA PHA 30 Days Miracle Toner</td>\n",
       "      <td>Some by Mi</td>\n",
       "      <td>https://reviews.femaledaily.com/service_review...</td>\n",
       "      <td>https://reviews.femaledaily.com/products/clean...</td>\n",
       "      <td>3.6</td>\n",
       "      <td>5139</td>\n",
       "      <td>Cleanser / Toner</td>\n",
       "    </tr>\n",
       "    <tr>\n",
       "      <th>22</th>\n",
       "      <td>Air Mawar</td>\n",
       "      <td>Viva Cosmetics</td>\n",
       "      <td>https://reviews.femaledaily.com/service_review...</td>\n",
       "      <td>https://reviews.femaledaily.com/products/clean...</td>\n",
       "      <td>4.1</td>\n",
       "      <td>5114</td>\n",
       "      <td>Cleanser / Toner</td>\n",
       "    </tr>\n",
       "    <tr>\n",
       "      <th>23</th>\n",
       "      <td>AHA/BHA Clarifying Treatment Toner</td>\n",
       "      <td>Cosrx</td>\n",
       "      <td>https://reviews.femaledaily.com/service_review...</td>\n",
       "      <td>https://reviews.femaledaily.com/products/clean...</td>\n",
       "      <td>4.0</td>\n",
       "      <td>4503</td>\n",
       "      <td>Cleanser / Toner</td>\n",
       "    </tr>\n",
       "    <tr>\n",
       "      <th>24</th>\n",
       "      <td>Miraculous Refining Toner</td>\n",
       "      <td>AVOSKIN</td>\n",
       "      <td>https://reviews.femaledaily.com/service_review...</td>\n",
       "      <td>https://reviews.femaledaily.com/products/clean...</td>\n",
       "      <td>4.2</td>\n",
       "      <td>4295</td>\n",
       "      <td>Cleanser / Toner</td>\n",
       "    </tr>\n",
       "    <tr>\n",
       "      <th>...</th>\n",
       "      <td>...</td>\n",
       "      <td>...</td>\n",
       "      <td>...</td>\n",
       "      <td>...</td>\n",
       "      <td>...</td>\n",
       "      <td>...</td>\n",
       "      <td>...</td>\n",
       "    </tr>\n",
       "    <tr>\n",
       "      <th>995</th>\n",
       "      <td>Triple Acid with Skinperf Peeling Solution</td>\n",
       "      <td>Kasmaran Beauty</td>\n",
       "      <td>https://reviews.femaledaily.com/service_review...</td>\n",
       "      <td>https://reviews.femaledaily.com/products/treat...</td>\n",
       "      <td>4.1</td>\n",
       "      <td>198</td>\n",
       "      <td>Treatment / Peeling</td>\n",
       "    </tr>\n",
       "    <tr>\n",
       "      <th>996</th>\n",
       "      <td>5% AHA BHA PHA Exfoliating Toner</td>\n",
       "      <td>Skintific</td>\n",
       "      <td>https://reviews.femaledaily.com/service_review...</td>\n",
       "      <td>https://reviews.femaledaily.com/products/treat...</td>\n",
       "      <td>4.1</td>\n",
       "      <td>190</td>\n",
       "      <td>Treatment / Peeling</td>\n",
       "    </tr>\n",
       "    <tr>\n",
       "      <th>997</th>\n",
       "      <td>Invisipeel Soft Peel Essential Series</td>\n",
       "      <td>Everose</td>\n",
       "      <td>https://reviews.femaledaily.com/service_review...</td>\n",
       "      <td>https://reviews.femaledaily.com/products/treat...</td>\n",
       "      <td>4.2</td>\n",
       "      <td>186</td>\n",
       "      <td>Treatment / Peeling</td>\n",
       "    </tr>\n",
       "    <tr>\n",
       "      <th>998</th>\n",
       "      <td>Your Toner-Essence Pad</td>\n",
       "      <td>Rahasia Beauty</td>\n",
       "      <td>https://reviews.femaledaily.com/service_review...</td>\n",
       "      <td>https://reviews.femaledaily.com/products/treat...</td>\n",
       "      <td>4.2</td>\n",
       "      <td>177</td>\n",
       "      <td>Treatment / Peeling</td>\n",
       "    </tr>\n",
       "    <tr>\n",
       "      <th>999</th>\n",
       "      <td>Peeling Kulit Kerang</td>\n",
       "      <td>Mustika Ratu</td>\n",
       "      <td>https://reviews.femaledaily.com/service_review...</td>\n",
       "      <td>https://reviews.femaledaily.com/products/treat...</td>\n",
       "      <td>3.9</td>\n",
       "      <td>153</td>\n",
       "      <td>Treatment / Peeling</td>\n",
       "    </tr>\n",
       "  </tbody>\n",
       "</table>\n",
       "<p>799 rows × 7 columns</p>\n",
       "</div>"
      ],
      "text/plain": [
       "                                           name            brand  \\\n",
       "20        Gokujyun Ultimate Moisturizing Lotion        Hada Labo   \n",
       "21            AHA BHA PHA 30 Days Miracle Toner       Some by Mi   \n",
       "22                                    Air Mawar   Viva Cosmetics   \n",
       "23           AHA/BHA Clarifying Treatment Toner            Cosrx   \n",
       "24                    Miraculous Refining Toner          AVOSKIN   \n",
       "..                                          ...              ...   \n",
       "995  Triple Acid with Skinperf Peeling Solution  Kasmaran Beauty   \n",
       "996            5% AHA BHA PHA Exfoliating Toner        Skintific   \n",
       "997       Invisipeel Soft Peel Essential Series          Everose   \n",
       "998                      Your Toner-Essence Pad   Rahasia Beauty   \n",
       "999                        Peeling Kulit Kerang     Mustika Ratu   \n",
       "\n",
       "                                                 image  \\\n",
       "20   https://reviews.femaledaily.com/service_review...   \n",
       "21   https://reviews.femaledaily.com/service_review...   \n",
       "22   https://reviews.femaledaily.com/service_review...   \n",
       "23   https://reviews.femaledaily.com/service_review...   \n",
       "24   https://reviews.femaledaily.com/service_review...   \n",
       "..                                                 ...   \n",
       "995  https://reviews.femaledaily.com/service_review...   \n",
       "996  https://reviews.femaledaily.com/service_review...   \n",
       "997  https://reviews.femaledaily.com/service_review...   \n",
       "998  https://reviews.femaledaily.com/service_review...   \n",
       "999  https://reviews.femaledaily.com/service_review...   \n",
       "\n",
       "                                                   url  rating  total_reviews  \\\n",
       "20   https://reviews.femaledaily.com/products/clean...     4.4           5928   \n",
       "21   https://reviews.femaledaily.com/products/clean...     3.6           5139   \n",
       "22   https://reviews.femaledaily.com/products/clean...     4.1           5114   \n",
       "23   https://reviews.femaledaily.com/products/clean...     4.0           4503   \n",
       "24   https://reviews.femaledaily.com/products/clean...     4.2           4295   \n",
       "..                                                 ...     ...            ...   \n",
       "995  https://reviews.femaledaily.com/products/treat...     4.1            198   \n",
       "996  https://reviews.femaledaily.com/products/treat...     4.1            190   \n",
       "997  https://reviews.femaledaily.com/products/treat...     4.2            186   \n",
       "998  https://reviews.femaledaily.com/products/treat...     4.2            177   \n",
       "999  https://reviews.femaledaily.com/products/treat...     3.9            153   \n",
       "\n",
       "                category  \n",
       "20      Cleanser / Toner  \n",
       "21      Cleanser / Toner  \n",
       "22      Cleanser / Toner  \n",
       "23      Cleanser / Toner  \n",
       "24      Cleanser / Toner  \n",
       "..                   ...  \n",
       "995  Treatment / Peeling  \n",
       "996  Treatment / Peeling  \n",
       "997  Treatment / Peeling  \n",
       "998  Treatment / Peeling  \n",
       "999  Treatment / Peeling  \n",
       "\n",
       "[799 rows x 7 columns]"
      ]
     },
     "execution_count": 15,
     "metadata": {},
     "output_type": "execute_result"
    }
   ],
   "source": [
    "# Show data duplikat\n",
    "products_list[products_list.duplicated()]"
   ]
  },
  {
   "cell_type": "markdown",
   "id": "16f8a319",
   "metadata": {},
   "source": [
    "## Products Details"
   ]
  },
  {
   "cell_type": "code",
   "execution_count": 5,
   "id": "9b59ae0d",
   "metadata": {},
   "outputs": [
    {
     "data": {
      "text/html": [
       "<div>\n",
       "<style scoped>\n",
       "    .dataframe tbody tr th:only-of-type {\n",
       "        vertical-align: middle;\n",
       "    }\n",
       "\n",
       "    .dataframe tbody tr th {\n",
       "        vertical-align: top;\n",
       "    }\n",
       "\n",
       "    .dataframe thead th {\n",
       "        text-align: right;\n",
       "    }\n",
       "</style>\n",
       "<table border=\"1\" class=\"dataframe\">\n",
       "  <thead>\n",
       "    <tr style=\"text-align: right;\">\n",
       "      <th></th>\n",
       "      <th>url</th>\n",
       "      <th>name</th>\n",
       "      <th>brand</th>\n",
       "      <th>price</th>\n",
       "      <th>rating</th>\n",
       "      <th>description</th>\n",
       "    </tr>\n",
       "  </thead>\n",
       "  <tbody>\n",
       "    <tr>\n",
       "      <th>0</th>\n",
       "      <td>https://reviews.femaledaily.com/products/clean...</td>\n",
       "      <td>Gokujyun Ultimate Moisturizing Lotion</td>\n",
       "      <td>Hada Labo</td>\n",
       "      <td>Rp. 29.000</td>\n",
       "      <td>4.4</td>\n",
       "      <td>DESCRIPTION Hada Labo Gokujyun Ultimate Moistu...</td>\n",
       "    </tr>\n",
       "    <tr>\n",
       "      <th>1</th>\n",
       "      <td>https://reviews.femaledaily.com/products/clean...</td>\n",
       "      <td>AHA BHA PHA 30 Days Miracle Toner</td>\n",
       "      <td>Some by Mi</td>\n",
       "      <td>Rp. 189.000</td>\n",
       "      <td>3.6</td>\n",
       "      <td>DESCRIPTION Some by Mi AHA BHA PHA 30 Days Mir...</td>\n",
       "    </tr>\n",
       "    <tr>\n",
       "      <th>2</th>\n",
       "      <td>https://reviews.femaledaily.com/products/clean...</td>\n",
       "      <td>Air Mawar</td>\n",
       "      <td>Viva Cosmetics</td>\n",
       "      <td>Rp. 4.800</td>\n",
       "      <td>4.1</td>\n",
       "      <td>DESCRIPTION Viva Cosmetics Air Mawar mengandun...</td>\n",
       "    </tr>\n",
       "    <tr>\n",
       "      <th>3</th>\n",
       "      <td>https://reviews.femaledaily.com/products/clean...</td>\n",
       "      <td>AHA/BHA Clarifying Treatment Toner</td>\n",
       "      <td>Cosrx</td>\n",
       "      <td>Rp. 190.000</td>\n",
       "      <td>4.0</td>\n",
       "      <td>DESCRIPTION Cosrx AHA/BHA Clarifying Treatment...</td>\n",
       "    </tr>\n",
       "    <tr>\n",
       "      <th>4</th>\n",
       "      <td>https://reviews.femaledaily.com/products/clean...</td>\n",
       "      <td>Miraculous Refining Toner</td>\n",
       "      <td>AVOSKIN</td>\n",
       "      <td>NaN</td>\n",
       "      <td>4.2</td>\n",
       "      <td>DESCRIPTION Reformulation in 2022AVOSKIN Mirac...</td>\n",
       "    </tr>\n",
       "  </tbody>\n",
       "</table>\n",
       "</div>"
      ],
      "text/plain": [
       "                                                 url  \\\n",
       "0  https://reviews.femaledaily.com/products/clean...   \n",
       "1  https://reviews.femaledaily.com/products/clean...   \n",
       "2  https://reviews.femaledaily.com/products/clean...   \n",
       "3  https://reviews.femaledaily.com/products/clean...   \n",
       "4  https://reviews.femaledaily.com/products/clean...   \n",
       "\n",
       "                                    name           brand        price  rating  \\\n",
       "0  Gokujyun Ultimate Moisturizing Lotion       Hada Labo   Rp. 29.000     4.4   \n",
       "1      AHA BHA PHA 30 Days Miracle Toner      Some by Mi  Rp. 189.000     3.6   \n",
       "2                              Air Mawar  Viva Cosmetics    Rp. 4.800     4.1   \n",
       "3     AHA/BHA Clarifying Treatment Toner           Cosrx  Rp. 190.000     4.0   \n",
       "4              Miraculous Refining Toner         AVOSKIN          NaN     4.2   \n",
       "\n",
       "                                         description  \n",
       "0  DESCRIPTION Hada Labo Gokujyun Ultimate Moistu...  \n",
       "1  DESCRIPTION Some by Mi AHA BHA PHA 30 Days Mir...  \n",
       "2  DESCRIPTION Viva Cosmetics Air Mawar mengandun...  \n",
       "3  DESCRIPTION Cosrx AHA/BHA Clarifying Treatment...  \n",
       "4  DESCRIPTION Reformulation in 2022AVOSKIN Mirac...  "
      ]
     },
     "execution_count": 5,
     "metadata": {},
     "output_type": "execute_result"
    }
   ],
   "source": [
    "# Dataset products_details\n",
    "products_details.head(5)"
   ]
  },
  {
   "cell_type": "code",
   "execution_count": 9,
   "id": "c699d0c8",
   "metadata": {},
   "outputs": [
    {
     "name": "stdout",
     "output_type": "stream",
     "text": [
      "<class 'pandas.core.frame.DataFrame'>\n",
      "RangeIndex: 213 entries, 0 to 212\n",
      "Data columns (total 6 columns):\n",
      " #   Column       Non-Null Count  Dtype  \n",
      "---  ------       --------------  -----  \n",
      " 0   url          213 non-null    object \n",
      " 1   name         202 non-null    object \n",
      " 2   brand        202 non-null    object \n",
      " 3   price        183 non-null    object \n",
      " 4   rating       202 non-null    float64\n",
      " 5   description  202 non-null    object \n",
      "dtypes: float64(1), object(5)\n",
      "memory usage: 10.1+ KB\n"
     ]
    }
   ],
   "source": [
    "products_details.info()"
   ]
  },
  {
   "cell_type": "code",
   "execution_count": 21,
   "id": "3fad16f5",
   "metadata": {},
   "outputs": [
    {
     "data": {
      "text/plain": [
       "(213, 6)"
      ]
     },
     "execution_count": 21,
     "metadata": {},
     "output_type": "execute_result"
    }
   ],
   "source": [
    "# Cek jumlah data\n",
    "products_details.shape"
   ]
  },
  {
   "cell_type": "code",
   "execution_count": 16,
   "id": "a8181fa9",
   "metadata": {},
   "outputs": [
    {
     "data": {
      "text/plain": [
       "url             0\n",
       "name           11\n",
       "brand          11\n",
       "price          30\n",
       "rating         11\n",
       "description    11\n",
       "dtype: int64"
      ]
     },
     "execution_count": 16,
     "metadata": {},
     "output_type": "execute_result"
    }
   ],
   "source": [
    "# Cek missing values\n",
    "products_details.isnull().sum()"
   ]
  },
  {
   "cell_type": "code",
   "execution_count": 17,
   "id": "0edad96d",
   "metadata": {},
   "outputs": [
    {
     "data": {
      "text/plain": [
       "0"
      ]
     },
     "execution_count": 17,
     "metadata": {},
     "output_type": "execute_result"
    }
   ],
   "source": [
    "# Cek duplikat\n",
    "products_details.duplicated().sum()"
   ]
  },
  {
   "cell_type": "markdown",
   "id": "ac99c23d",
   "metadata": {},
   "source": [
    "## Reviews"
   ]
  },
  {
   "cell_type": "code",
   "execution_count": 6,
   "id": "42bfe35e",
   "metadata": {},
   "outputs": [
    {
     "data": {
      "text/html": [
       "<div>\n",
       "<style scoped>\n",
       "    .dataframe tbody tr th:only-of-type {\n",
       "        vertical-align: middle;\n",
       "    }\n",
       "\n",
       "    .dataframe tbody tr th {\n",
       "        vertical-align: top;\n",
       "    }\n",
       "\n",
       "    .dataframe thead th {\n",
       "        text-align: right;\n",
       "    }\n",
       "</style>\n",
       "<table border=\"1\" class=\"dataframe\">\n",
       "  <thead>\n",
       "    <tr style=\"text-align: right;\">\n",
       "      <th></th>\n",
       "      <th>username</th>\n",
       "      <th>skin_type</th>\n",
       "      <th>age</th>\n",
       "      <th>rating_star</th>\n",
       "      <th>recommended</th>\n",
       "      <th>review</th>\n",
       "      <th>review_date</th>\n",
       "      <th>usage_period</th>\n",
       "      <th>product_name</th>\n",
       "      <th>product_url</th>\n",
       "    </tr>\n",
       "  </thead>\n",
       "  <tbody>\n",
       "    <tr>\n",
       "      <th>0</th>\n",
       "      <td>nunabing</td>\n",
       "      <td>Dry</td>\n",
       "      <td>18 and Under</td>\n",
       "      <td>3</td>\n",
       "      <td>False</td>\n",
       "      <td>sorry aku kurang cocok sama produk ini, karena...</td>\n",
       "      <td>2 days ago</td>\n",
       "      <td>More than 1 year</td>\n",
       "      <td>Gokujyun Ultimate Moisturizing Lotion</td>\n",
       "      <td>https://reviews.femaledaily.com/products/clean...</td>\n",
       "    </tr>\n",
       "    <tr>\n",
       "      <th>1</th>\n",
       "      <td>itaaaafiryal_</td>\n",
       "      <td>Combination</td>\n",
       "      <td>19 - 24</td>\n",
       "      <td>5</td>\n",
       "      <td>True</td>\n",
       "      <td>dipake buat csm-an enak bgt, teksturnya cair, ...</td>\n",
       "      <td>5 days ago</td>\n",
       "      <td>3 months - 6 months</td>\n",
       "      <td>Gokujyun Ultimate Moisturizing Lotion</td>\n",
       "      <td>https://reviews.femaledaily.com/products/clean...</td>\n",
       "    </tr>\n",
       "    <tr>\n",
       "      <th>2</th>\n",
       "      <td>huwaidaamany</td>\n",
       "      <td>Combination</td>\n",
       "      <td>18 and Under</td>\n",
       "      <td>5</td>\n",
       "      <td>True</td>\n",
       "      <td>Luvvvv banget, calming muka kalo lagi rewel, l...</td>\n",
       "      <td>5 days ago</td>\n",
       "      <td>More than 1 year</td>\n",
       "      <td>Gokujyun Ultimate Moisturizing Lotion</td>\n",
       "      <td>https://reviews.femaledaily.com/products/clean...</td>\n",
       "    </tr>\n",
       "    <tr>\n",
       "      <th>3</th>\n",
       "      <td>ghisti</td>\n",
       "      <td>Oily</td>\n",
       "      <td>18 and Under</td>\n",
       "      <td>3</td>\n",
       "      <td>False</td>\n",
       "      <td>produk ini tu menurut aku cocok nya buat yang ...</td>\n",
       "      <td>12 May 2025</td>\n",
       "      <td>3 months - 6 months</td>\n",
       "      <td>Gokujyun Ultimate Moisturizing Lotion</td>\n",
       "      <td>https://reviews.femaledaily.com/products/clean...</td>\n",
       "    </tr>\n",
       "    <tr>\n",
       "      <th>4</th>\n",
       "      <td>Namanya_Gibraltar</td>\n",
       "      <td>Dry</td>\n",
       "      <td>18 and Under</td>\n",
       "      <td>4</td>\n",
       "      <td>True</td>\n",
       "      <td>Di aku cukip bantu Lembab tapi g kyk yg, woww ...</td>\n",
       "      <td>12 May 2025</td>\n",
       "      <td>6 months - 1 year</td>\n",
       "      <td>Gokujyun Ultimate Moisturizing Lotion</td>\n",
       "      <td>https://reviews.femaledaily.com/products/clean...</td>\n",
       "    </tr>\n",
       "  </tbody>\n",
       "</table>\n",
       "</div>"
      ],
      "text/plain": [
       "            username    skin_type           age rating_star recommended  \\\n",
       "0           nunabing          Dry  18 and Under           3       False   \n",
       "1      itaaaafiryal_  Combination       19 - 24           5        True   \n",
       "2       huwaidaamany  Combination  18 and Under           5        True   \n",
       "3             ghisti         Oily  18 and Under           3       False   \n",
       "4  Namanya_Gibraltar          Dry  18 and Under           4        True   \n",
       "\n",
       "                                              review  review_date  \\\n",
       "0  sorry aku kurang cocok sama produk ini, karena...   2 days ago   \n",
       "1  dipake buat csm-an enak bgt, teksturnya cair, ...   5 days ago   \n",
       "2  Luvvvv banget, calming muka kalo lagi rewel, l...   5 days ago   \n",
       "3  produk ini tu menurut aku cocok nya buat yang ...  12 May 2025   \n",
       "4  Di aku cukip bantu Lembab tapi g kyk yg, woww ...  12 May 2025   \n",
       "\n",
       "          usage_period                           product_name  \\\n",
       "0     More than 1 year  Gokujyun Ultimate Moisturizing Lotion   \n",
       "1  3 months - 6 months  Gokujyun Ultimate Moisturizing Lotion   \n",
       "2     More than 1 year  Gokujyun Ultimate Moisturizing Lotion   \n",
       "3  3 months - 6 months  Gokujyun Ultimate Moisturizing Lotion   \n",
       "4    6 months - 1 year  Gokujyun Ultimate Moisturizing Lotion   \n",
       "\n",
       "                                         product_url  \n",
       "0  https://reviews.femaledaily.com/products/clean...  \n",
       "1  https://reviews.femaledaily.com/products/clean...  \n",
       "2  https://reviews.femaledaily.com/products/clean...  \n",
       "3  https://reviews.femaledaily.com/products/clean...  \n",
       "4  https://reviews.femaledaily.com/products/clean...  "
      ]
     },
     "execution_count": 6,
     "metadata": {},
     "output_type": "execute_result"
    }
   ],
   "source": [
    "# Dataset reviews\n",
    "reviews.head(5)"
   ]
  },
  {
   "cell_type": "code",
   "execution_count": 10,
   "id": "83c11011",
   "metadata": {},
   "outputs": [
    {
     "name": "stdout",
     "output_type": "stream",
     "text": [
      "<class 'pandas.core.frame.DataFrame'>\n",
      "RangeIndex: 29900 entries, 0 to 29899\n",
      "Data columns (total 10 columns):\n",
      " #   Column        Non-Null Count  Dtype \n",
      "---  ------        --------------  ----- \n",
      " 0   username      29900 non-null  object\n",
      " 1   skin_type     28752 non-null  object\n",
      " 2   age           29876 non-null  object\n",
      " 3   rating_star   29900 non-null  object\n",
      " 4   recommended   29179 non-null  object\n",
      " 5   review        29899 non-null  object\n",
      " 6   review_date   29898 non-null  object\n",
      " 7   usage_period  29886 non-null  object\n",
      " 8   product_name  29898 non-null  object\n",
      " 9   product_url   29898 non-null  object\n",
      "dtypes: object(10)\n",
      "memory usage: 2.3+ MB\n"
     ]
    }
   ],
   "source": [
    "reviews.info()"
   ]
  },
  {
   "cell_type": "code",
   "execution_count": 22,
   "id": "5b3c0080",
   "metadata": {},
   "outputs": [
    {
     "data": {
      "text/plain": [
       "(29900, 10)"
      ]
     },
     "execution_count": 22,
     "metadata": {},
     "output_type": "execute_result"
    }
   ],
   "source": [
    "# Cek jumlah data\n",
    "reviews.shape"
   ]
  },
  {
   "cell_type": "code",
   "execution_count": 18,
   "id": "8c749bd4",
   "metadata": {},
   "outputs": [
    {
     "data": {
      "text/plain": [
       "username           0\n",
       "skin_type       1148\n",
       "age               24\n",
       "rating_star        0\n",
       "recommended      721\n",
       "review             1\n",
       "review_date        2\n",
       "usage_period      14\n",
       "product_name       2\n",
       "product_url        2\n",
       "dtype: int64"
      ]
     },
     "execution_count": 18,
     "metadata": {},
     "output_type": "execute_result"
    }
   ],
   "source": [
    "# Cek missing values\n",
    "reviews.isnull().sum()"
   ]
  },
  {
   "cell_type": "code",
   "execution_count": 19,
   "id": "ba592138",
   "metadata": {},
   "outputs": [
    {
     "data": {
      "text/plain": [
       "0"
      ]
     },
     "execution_count": 19,
     "metadata": {},
     "output_type": "execute_result"
    }
   ],
   "source": [
    "# Cek duplikat\n",
    "reviews.duplicated().sum()"
   ]
  }
 ],
 "metadata": {
  "kernelspec": {
   "display_name": "3.11.4",
   "language": "python",
   "name": "python3"
  },
  "language_info": {
   "codemirror_mode": {
    "name": "ipython",
    "version": 3
   },
   "file_extension": ".py",
   "mimetype": "text/x-python",
   "name": "python",
   "nbconvert_exporter": "python",
   "pygments_lexer": "ipython3",
   "version": "3.11.4"
  }
 },
 "nbformat": 4,
 "nbformat_minor": 5
}
